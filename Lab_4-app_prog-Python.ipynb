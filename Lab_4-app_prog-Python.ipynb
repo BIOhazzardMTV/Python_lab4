{
 "cells": [
  {
   "cell_type": "markdown",
   "metadata": {},
   "source": [
    "# Лабораторная работа №4 \n",
    "## Вариант 3\n",
    "Выполнил Федоров А.В."
   ]
  },
  {
   "cell_type": "code",
   "execution_count": 13,
   "id": "9adf984e-17c9-4fa5-a121-2d0c67e38573",
   "metadata": {
    "tags": []
   },
   "outputs": [],
   "source": [
    "import os\n",
    "import cv2\n",
    "import pandas as pd\n",
    "from random import randint\n",
    "import matplotlib.pyplot as plt"
   ]
  },
  {
   "cell_type": "markdown",
   "id": "e5ce156d-651c-4d46-89c0-e415901b6630",
   "metadata": {},
   "source": [
    "### Файл датасета, с которым я работаю:"
   ]
  },
  {
   "cell_type": "code",
   "execution_count": 14,
   "id": "ee548272-da63-43bf-98fc-3c1b46689c7d",
   "metadata": {
    "tags": []
   },
   "outputs": [],
   "source": [
    "file = \"annotation_original.csv\""
   ]
  },
  {
   "cell_type": "markdown",
   "id": "5f338d87-e48d-4978-a62e-ad16983e7d5e",
   "metadata": {
    "tags": []
   },
   "source": [
    "### Задание 1-2. Удаляю колонку \"Relative path\":"
   ]
  },
  {
   "cell_type": "code",
   "execution_count": 15,
   "id": "907db11d-60ca-4c79-bba2-15cde863808c",
   "metadata": {},
   "outputs": [],
   "source": [
    "df = pd.read_csv(file, header=0)\n",
    "df = df.drop([\"Relative path\"], axis=1)"
   ]
  },
  {
   "cell_type": "markdown",
   "id": "78322b42-d33e-4b6e-ab9e-c435a56b60e4",
   "metadata": {},
   "source": [
    "### Задание 3. Для класса \"cat\" - метка \"0\", для класса \"dog\" - метка \"1\":"
   ]
  },
  {
   "cell_type": "code",
   "execution_count": 16,
   "id": "2670e757-db14-4d77-bbab-a007b6350fe7",
   "metadata": {},
   "outputs": [],
   "source": [
    "def new(row):\n",
    "    \"\"\"Функция возвращает метку класса\"\"\"\n",
    "    if row[\"Class label\"] == \"cat\":\n",
    "        val = 0\n",
    "    else:\n",
    "        val = 1\n",
    "    return val\n",
    "\n",
    "df[\"mark\"] = df.apply(new, axis=1)"
   ]
  },
  {
   "cell_type": "markdown",
   "id": "ac1f7d47-2256-4aaf-aebb-61836caf89be",
   "metadata": {},
   "source": [
    "### Задание 4-5. "
   ]
  },
  {
   "cell_type": "code",
   "execution_count": null,
   "id": "1cfe2885-8ca2-4a56-a92f-073d775fe1e9",
   "metadata": {
    "tags": []
   },
   "outputs": [],
   "source": [
    "def height(row):\n",
    "    \"\"\"Функция возвращает высоту изображения\"\"\"\n",
    "    image = cv2.imread(row[\"Absolute path\"])\n",
    "    value = image.shape\n",
    "    return value[0]\n",
    "def width(row):\n",
    "    \"\"\"Функция возвращает ширину изображения\"\"\"\n",
    "    image = cv2.imread(row[\"Absolute path\"])\n",
    "    value = image.shape\n",
    "    return  value[1]\n",
    "def depth(row):\n",
    "    \"\"\"Функция возвращает глубину изображения\"\"\"\n",
    "    image = cv2.imread(row[\"Absolute path\"])\n",
    "    value = image.shape\n",
    "    return value[2]\n",
    "df[\"height\"] = df.apply(height, axis=1)\n",
    "df[\"width\"] = df.apply(width, axis=1)\n",
    "df[\"depth\"] = df.apply(depth, axis=1)\n",
    "df.describe()"
   ]
  },
  {
   "cell_type": "markdown",
   "id": "b4759da4-484a-4651-bffa-3911d12a26d1",
   "metadata": {},
   "source": [
    "### Задание 6."
   ]
  },
  {
   "cell_type": "code",
   "execution_count": null,
   "id": "3a539fad-5a6a-47fd-a216-66e24dd4634b",
   "metadata": {},
   "outputs": [],
   "source": [
    "def filter_dataframe(dataframe, label: int):\n",
    "    \"\"\"Функция принимает метку класса и возвращает сортированный DataFrame\"\"\"\n",
    "    copy_dataframe = dataframe[dataframe.mark == label]\n",
    "    return copy_dataframe\n",
    "filter_dataframe(df, 1)"
   ]
  },
  {
   "cell_type": "markdown",
   "id": "e6ff233a-0cc9-4b05-89be-6aeaa40867bb",
   "metadata": {},
   "source": [
    "### Задание 7. Пусть длина = 1920, высота = 1080, класс = \"cat\""
   ]
  },
  {
   "cell_type": "code",
   "execution_count": null,
   "id": "fe5389f1-5ecc-4846-aca2-8193fda3a1eb",
   "metadata": {},
   "outputs": [],
   "source": [
    "def max_dataframe(df, label: int, max_width: int, max_height: int):\n",
    "    \"\"\"Функция принимает метку класса, максимальную ширину, максимальную высоту и возвращает сортированный DataFrame\"\"\"\n",
    "    max_df = df[(df.mark == label) & (df.width <= max_width) & (df.height <= max_height)]\n",
    "    return max_df\n",
    "max_w = 1920\n",
    "max_h = 1080\n",
    "class_label = 0\n",
    "print(max_dataframe(df, class_label, max_w, max_h))"
   ]
  }
 ],
 "metadata": {
  "kernelspec": {
   "display_name": "Python 3.9.13 64-bit",
   "language": "python",
   "name": "python3"
  },
  "language_info": {
   "codemirror_mode": {
    "name": "ipython",
    "version": 3
   },
   "file_extension": ".py",
   "mimetype": "text/x-python",
   "name": "python",
   "nbconvert_exporter": "python",
   "pygments_lexer": "ipython3",
   "version": "3.9.13"
  },
  "orig_nbformat": 4,
  "vscode": {
   "interpreter": {
    "hash": "c3355a1c2fe0a25b68596182e61a72141e4a6a34912edc9203ebbcb832e05a33"
   }
  }
 },
 "nbformat": 4,
 "nbformat_minor": 2
}
