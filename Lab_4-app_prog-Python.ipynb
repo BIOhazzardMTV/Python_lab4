{
 "cells": [
  {
   "cell_type": "markdown",
   "metadata": {},
   "source": [
    "# Лабораторная работа №4 \n",
    "## Вариант 3\n",
    "Выполнил Федоров А.В."
   ]
  },
  {
   "cell_type": "code",
   "execution_count": 9,
   "id": "9adf984e-17c9-4fa5-a121-2d0c67e38573",
   "metadata": {
    "tags": []
   },
   "outputs": [],
   "source": [
    "import os\n",
    "import cv2\n",
    "import pandas as pd\n",
    "from random import randint\n",
    "import matplotlib.pyplot as plt"
   ]
  },
  {
   "cell_type": "markdown",
   "id": "e5ce156d-651c-4d46-89c0-e415901b6630",
   "metadata": {},
   "source": [
    "### Файл датасета, с которым я работаю:"
   ]
  },
  {
   "cell_type": "code",
   "execution_count": 10,
   "id": "ee548272-da63-43bf-98fc-3c1b46689c7d",
   "metadata": {
    "tags": []
   },
   "outputs": [],
   "source": [
    "file = \"annotation_original.csv\""
   ]
  },
  {
   "cell_type": "markdown",
   "id": "5f338d87-e48d-4978-a62e-ad16983e7d5e",
   "metadata": {
    "tags": []
   },
   "source": [
    "### Задание 1-2. Удаляю колонку \"Relative path\":"
   ]
  },
  {
   "cell_type": "code",
   "execution_count": 11,
   "id": "907db11d-60ca-4c79-bba2-15cde863808c",
   "metadata": {},
   "outputs": [],
   "source": [
    "df = pd.read_csv(file, header=0)\n",
    "df = df.drop([\"Relative path\"], axis=1)"
   ]
  },
  {
   "cell_type": "markdown",
   "id": "78322b42-d33e-4b6e-ab9e-c435a56b60e4",
   "metadata": {},
   "source": [
    "### Задание 3. Для класса \"cat\" - метка \"0\", для класса \"dog\" - метка \"1\":"
   ]
  },
  {
   "cell_type": "code",
   "execution_count": 12,
   "id": "2670e757-db14-4d77-bbab-a007b6350fe7",
   "metadata": {},
   "outputs": [],
   "source": [
    "def new(row):\n",
    "    \"\"\"Функция возвращает метку класса\"\"\"\n",
    "    if row[\"Class label\"] == \"cat\":\n",
    "        val = 0\n",
    "    else:\n",
    "        val = 1\n",
    "    return val\n",
    "\n",
    "df[\"mark\"] = df.apply(new, axis=1)"
   ]
  }
 ],
 "metadata": {
  "kernelspec": {
   "display_name": "Python 3.9.13 64-bit",
   "language": "python",
   "name": "python3"
  },
  "language_info": {
   "codemirror_mode": {
    "name": "ipython",
    "version": 3
   },
   "file_extension": ".py",
   "mimetype": "text/x-python",
   "name": "python",
   "nbconvert_exporter": "python",
   "pygments_lexer": "ipython3",
   "version": "3.9.13"
  },
  "orig_nbformat": 4,
  "vscode": {
   "interpreter": {
    "hash": "c3355a1c2fe0a25b68596182e61a72141e4a6a34912edc9203ebbcb832e05a33"
   }
  }
 },
 "nbformat": 4,
 "nbformat_minor": 2
}
