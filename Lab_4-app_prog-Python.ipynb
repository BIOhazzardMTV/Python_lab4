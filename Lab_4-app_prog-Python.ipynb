{
 "cells": [
  {
   "cell_type": "markdown",
   "metadata": {},
   "source": [
    "# Лабораторная работа №4 \n",
    "## Вариант 3\n",
    "Выполнил Федоров А.В."
   ]
  },
  {
   "cell_type": "code",
   "execution_count": null,
   "id": "9adf984e-17c9-4fa5-a121-2d0c67e38573",
   "metadata": {
    "tags": []
   },
   "outputs": [],
   "source": [
    "import os\n",
    "import cv2\n",
    "import pandas as pd\n",
    "from random import randint\n",
    "import matplotlib.pyplot as plt"
   ]
  },
  {
   "cell_type": "markdown",
   "id": "e5ce156d-651c-4d46-89c0-e415901b6630",
   "metadata": {},
   "source": [
    "### Файл датасета, с которым я работаю:"
   ]
  },
  {
   "cell_type": "code",
   "execution_count": null,
   "id": "ee548272-da63-43bf-98fc-3c1b46689c7d",
   "metadata": {
    "tags": []
   },
   "outputs": [],
   "source": [
    "file = \"annotation.csv\""
   ]
  },
  {
   "cell_type": "markdown",
   "id": "5f338d87-e48d-4978-a62e-ad16983e7d5e",
   "metadata": {
    "tags": []
   },
   "source": [
    "### Задание 1-2. Удаляю колонку \"Relative path\":"
   ]
  },
  {
   "cell_type": "code",
   "execution_count": null,
   "id": "907db11d-60ca-4c79-bba2-15cde863808c",
   "metadata": {},
   "outputs": [
    {
     "ename": "NameError",
     "evalue": "name 'pd' is not defined",
     "output_type": "error",
     "traceback": [
      "\u001b[1;31m---------------------------------------------------------------------------\u001b[0m\n",
      "\u001b[1;31mNameError\u001b[0m                                 Traceback (most recent call last)\n",
      "Cell \u001b[1;32mIn[1], line 1\u001b[0m\n",
      "\u001b[1;32m----> 1\u001b[0m df \u001b[39m=\u001b[39m pd\u001b[39m.\u001b[39mread_csv(file, header\u001b[39m=\u001b[39m\u001b[39m0\u001b[39m)\n",
      "\u001b[0;32m      2\u001b[0m df \u001b[39m=\u001b[39m df\u001b[39m.\u001b[39mdrop([\u001b[39m\"\u001b[39m\u001b[39mRelative path\u001b[39m\u001b[39m\"\u001b[39m], axis\u001b[39m=\u001b[39m\u001b[39m1\u001b[39m)\n",
      "\u001b[0;32m      3\u001b[0m \u001b[39mprint\u001b[39m(df)\n",
      "\n",
      "\u001b[1;31mNameError\u001b[0m: name 'pd' is not defined"
     ]
    }
   ],
   "source": [
    "df = pd.read_csv(file, header=0)\n",
    "df = df.drop([\"Relative path\"], axis=1)\n",
    "print(df)"
   ]
  }
 ],
 "metadata": {
  "kernelspec": {
   "display_name": "Python 3.9.13 64-bit",
   "language": "python",
   "name": "python3"
  },
  "language_info": {
   "name": "python",
   "version": "3.9.13"
  },
  "orig_nbformat": 4,
  "vscode": {
   "interpreter": {
    "hash": "c3355a1c2fe0a25b68596182e61a72141e4a6a34912edc9203ebbcb832e05a33"
   }
  }
 },
 "nbformat": 4,
 "nbformat_minor": 2
}
