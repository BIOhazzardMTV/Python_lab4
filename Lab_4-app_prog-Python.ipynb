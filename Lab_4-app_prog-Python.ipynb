{
 "cells": [
  {
   "cell_type": "markdown",
   "metadata": {},
   "source": [
    "# Лабораторная работа №4 \n",
    "## Вариант 3\n",
    "Выполнил Федоров А.В."
   ]
  },
  {
   "cell_type": "code",
   "execution_count": null,
   "id": "9adf984e-17c9-4fa5-a121-2d0c67e38573",
   "metadata": {
    "tags": []
   },
   "outputs": [],
   "source": [
    "import os\n",
    "import cv2\n",
    "import pandas as pd\n",
    "from random import randint\n",
    "import matplotlib.pyplot as plt"
   ]
  }
 ],
 "metadata": {
  "kernelspec": {
   "display_name": "Python 3.9.13 64-bit",
   "language": "python",
   "name": "python3"
  },
  "language_info": {
   "name": "python",
   "version": "3.9.13"
  },
  "orig_nbformat": 4,
  "vscode": {
   "interpreter": {
    "hash": "c3355a1c2fe0a25b68596182e61a72141e4a6a34912edc9203ebbcb832e05a33"
   }
  }
 },
 "nbformat": 4,
 "nbformat_minor": 2
}
